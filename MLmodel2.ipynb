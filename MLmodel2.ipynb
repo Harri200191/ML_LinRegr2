{
 "cells": [
  {
   "cell_type": "markdown",
   "id": "b9290f8c",
   "metadata": {},
   "source": [
    "## Import all libraries "
   ]
  },
  {
   "cell_type": "code",
   "execution_count": 83,
   "id": "b69bb2a5",
   "metadata": {},
   "outputs": [],
   "source": [
    "import numpy as np\n",
    "import pandas as pd\n",
    "from numpy import random \n",
    "import matplotlib.pyplot as plt\n",
    "import seaborn as sns\n",
    "from sklearn.preprocessing import StandardScaler\n",
    "from sklearn.linear_model import LinearRegression\n",
    "from sklearn.feature_selection import f_regression\n",
    "from statsmodels.stats.outliers_influence import variance_inflation_factor\n",
    "import statsmodels.api as sm\n",
    "from sklearn.model_selection import train_test_split\n",
    "\n",
    "sns.set()"
   ]
  },
  {
   "cell_type": "markdown",
   "id": "37a0e990",
   "metadata": {},
   "source": [
    "## Extract the data"
   ]
  },
  {
   "cell_type": "markdown",
   "id": "12de451b",
   "metadata": {},
   "source": [
    "Extract the data from the .csv file and review the first 5 rows"
   ]
  },
  {
   "cell_type": "code",
   "execution_count": 84,
   "id": "fea411a3",
   "metadata": {},
   "outputs": [
    {
     "data": {
      "text/html": [
       "<div>\n",
       "<style scoped>\n",
       "    .dataframe tbody tr th:only-of-type {\n",
       "        vertical-align: middle;\n",
       "    }\n",
       "\n",
       "    .dataframe tbody tr th {\n",
       "        vertical-align: top;\n",
       "    }\n",
       "\n",
       "    .dataframe thead th {\n",
       "        text-align: right;\n",
       "    }\n",
       "</style>\n",
       "<table border=\"1\" class=\"dataframe\">\n",
       "  <thead>\n",
       "    <tr style=\"text-align: right;\">\n",
       "      <th></th>\n",
       "      <th>price</th>\n",
       "      <th>size</th>\n",
       "      <th>year</th>\n",
       "    </tr>\n",
       "  </thead>\n",
       "  <tbody>\n",
       "    <tr>\n",
       "      <th>0</th>\n",
       "      <td>234314.144</td>\n",
       "      <td>643.09</td>\n",
       "      <td>2015</td>\n",
       "    </tr>\n",
       "    <tr>\n",
       "      <th>1</th>\n",
       "      <td>228581.528</td>\n",
       "      <td>656.22</td>\n",
       "      <td>2009</td>\n",
       "    </tr>\n",
       "    <tr>\n",
       "      <th>2</th>\n",
       "      <td>281626.336</td>\n",
       "      <td>487.29</td>\n",
       "      <td>2018</td>\n",
       "    </tr>\n",
       "    <tr>\n",
       "      <th>3</th>\n",
       "      <td>401255.608</td>\n",
       "      <td>1504.75</td>\n",
       "      <td>2015</td>\n",
       "    </tr>\n",
       "    <tr>\n",
       "      <th>4</th>\n",
       "      <td>458674.256</td>\n",
       "      <td>1275.46</td>\n",
       "      <td>2009</td>\n",
       "    </tr>\n",
       "  </tbody>\n",
       "</table>\n",
       "</div>"
      ],
      "text/plain": [
       "        price     size  year\n",
       "0  234314.144   643.09  2015\n",
       "1  228581.528   656.22  2009\n",
       "2  281626.336   487.29  2018\n",
       "3  401255.608  1504.75  2015\n",
       "4  458674.256  1275.46  2009"
      ]
     },
     "execution_count": 84,
     "metadata": {},
     "output_type": "execute_result"
    }
   ],
   "source": [
    "data = pd.read_csv(\"real_estate_price_size_year.csv\")\n",
    "data.head()"
   ]
  },
  {
   "cell_type": "markdown",
   "id": "349cdd5a",
   "metadata": {},
   "source": [
    "View the statistical description of the .csv file"
   ]
  },
  {
   "cell_type": "code",
   "execution_count": 85,
   "id": "4ef26391",
   "metadata": {},
   "outputs": [
    {
     "data": {
      "text/html": [
       "<div>\n",
       "<style scoped>\n",
       "    .dataframe tbody tr th:only-of-type {\n",
       "        vertical-align: middle;\n",
       "    }\n",
       "\n",
       "    .dataframe tbody tr th {\n",
       "        vertical-align: top;\n",
       "    }\n",
       "\n",
       "    .dataframe thead th {\n",
       "        text-align: right;\n",
       "    }\n",
       "</style>\n",
       "<table border=\"1\" class=\"dataframe\">\n",
       "  <thead>\n",
       "    <tr style=\"text-align: right;\">\n",
       "      <th></th>\n",
       "      <th>price</th>\n",
       "      <th>size</th>\n",
       "      <th>year</th>\n",
       "    </tr>\n",
       "  </thead>\n",
       "  <tbody>\n",
       "    <tr>\n",
       "      <th>count</th>\n",
       "      <td>100.000000</td>\n",
       "      <td>100.000000</td>\n",
       "      <td>100.000000</td>\n",
       "    </tr>\n",
       "    <tr>\n",
       "      <th>mean</th>\n",
       "      <td>292289.470160</td>\n",
       "      <td>853.024200</td>\n",
       "      <td>2012.600000</td>\n",
       "    </tr>\n",
       "    <tr>\n",
       "      <th>std</th>\n",
       "      <td>77051.727525</td>\n",
       "      <td>297.941951</td>\n",
       "      <td>4.729021</td>\n",
       "    </tr>\n",
       "    <tr>\n",
       "      <th>min</th>\n",
       "      <td>154282.128000</td>\n",
       "      <td>479.750000</td>\n",
       "      <td>2006.000000</td>\n",
       "    </tr>\n",
       "    <tr>\n",
       "      <th>25%</th>\n",
       "      <td>234280.148000</td>\n",
       "      <td>643.330000</td>\n",
       "      <td>2009.000000</td>\n",
       "    </tr>\n",
       "    <tr>\n",
       "      <th>50%</th>\n",
       "      <td>280590.716000</td>\n",
       "      <td>696.405000</td>\n",
       "      <td>2015.000000</td>\n",
       "    </tr>\n",
       "    <tr>\n",
       "      <th>75%</th>\n",
       "      <td>335723.696000</td>\n",
       "      <td>1029.322500</td>\n",
       "      <td>2018.000000</td>\n",
       "    </tr>\n",
       "    <tr>\n",
       "      <th>max</th>\n",
       "      <td>500681.128000</td>\n",
       "      <td>1842.510000</td>\n",
       "      <td>2018.000000</td>\n",
       "    </tr>\n",
       "  </tbody>\n",
       "</table>\n",
       "</div>"
      ],
      "text/plain": [
       "               price         size         year\n",
       "count     100.000000   100.000000   100.000000\n",
       "mean   292289.470160   853.024200  2012.600000\n",
       "std     77051.727525   297.941951     4.729021\n",
       "min    154282.128000   479.750000  2006.000000\n",
       "25%    234280.148000   643.330000  2009.000000\n",
       "50%    280590.716000   696.405000  2015.000000\n",
       "75%    335723.696000  1029.322500  2018.000000\n",
       "max    500681.128000  1842.510000  2018.000000"
      ]
     },
     "execution_count": 85,
     "metadata": {},
     "output_type": "execute_result"
    }
   ],
   "source": [
    "data.describe()"
   ]
  },
  {
   "cell_type": "markdown",
   "id": "6b1ff742",
   "metadata": {},
   "source": [
    "Data Contains No Empty Values so No Need to Deal With it"
   ]
  },
  {
   "cell_type": "code",
   "execution_count": 86,
   "id": "ef43bb13",
   "metadata": {},
   "outputs": [
    {
     "data": {
      "text/plain": [
       "price    0\n",
       "size     0\n",
       "year     0\n",
       "dtype: int64"
      ]
     },
     "execution_count": 86,
     "metadata": {},
     "output_type": "execute_result"
    }
   ],
   "source": [
    "data.isnull().sum()"
   ]
  },
  {
   "cell_type": "markdown",
   "id": "aca11a98",
   "metadata": {},
   "source": [
    "Divide data into dependent and independent variables"
   ]
  },
  {
   "cell_type": "code",
   "execution_count": 87,
   "id": "1ee337da",
   "metadata": {},
   "outputs": [],
   "source": [
    "indep = data[['size', 'year']]\n",
    "dep = data['price']\n",
    "\n",
    "indep_case2 = data['size']"
   ]
  },
  {
   "cell_type": "markdown",
   "id": "4f28035b",
   "metadata": {},
   "source": [
    "## Exploring the PDF's"
   ]
  },
  {
   "cell_type": "markdown",
   "id": "31d6e688",
   "metadata": {},
   "source": [
    "Exploring PDF's of all variables and see if the resulting distribution is normally distributed or not, which in this case is"
   ]
  },
  {
   "cell_type": "code",
   "execution_count": 88,
   "id": "f0826d8c",
   "metadata": {},
   "outputs": [
    {
     "data": {
      "text/plain": [
       "<seaborn.axisgrid.FacetGrid at 0x1c89a2eb5b0>"
      ]
     },
     "execution_count": 88,
     "metadata": {},
     "output_type": "execute_result"
    },
    {
     "data": {
      "image/png": "[encoded data removed]",
      "text/plain": [
       "<Figure size 360x360 with 1 Axes>"
      ]
     },
     "metadata": {},
     "output_type": "display_data"
    }
   ],
   "source": [
    "sns.displot(data['price'])"
   ]
  },
  {
   "cell_type": "code",
   "execution_count": 89,
   "id": "fdf18e8b",
   "metadata": {},
   "outputs": [
    {
     "data": {
      "text/plain": [
       "<seaborn.axisgrid.FacetGrid at 0x1c89a240e50>"
      ]
     },
     "execution_count": 89,
     "metadata": {},
     "output_type": "execute_result"
    },
    {
     "data": {
      "image/png": "[encoded data removed]",
      "text/plain": [
       "<Figure size 360x360 with 1 Axes>"
      ]
     },
     "metadata": {},
     "output_type": "display_data"
    }
   ],
   "source": [
    "sns.displot(data['size'])"
   ]
  },
  {
   "cell_type": "code",
   "execution_count": 90,
   "id": "5c40c9bc",
   "metadata": {},
   "outputs": [
    {
     "data": {
      "text/plain": [
       "<seaborn.axisgrid.FacetGrid at 0x1c89a32b400>"
      ]
     },
     "execution_count": 90,
     "metadata": {},
     "output_type": "execute_result"
    },
    {
     "data": {
      "image/png": "[encoded data removed]",
      "text/plain": [
       "<Figure size 360x360 with 1 Axes>"
      ]
     },
     "metadata": {},
     "output_type": "display_data"
    }
   ],
   "source": [
    "sns.displot(data['year'])"
   ]
  },
  {
   "cell_type": "markdown",
   "id": "74d806ae",
   "metadata": {},
   "source": [
    "## Conditions for linearity"
   ]
  },
  {
   "cell_type": "markdown",
   "id": "973200e6",
   "metadata": {},
   "source": [
    "### (1) Linearity"
   ]
  },
  {
   "cell_type": "code",
   "execution_count": 91,
   "id": "e573853f",
   "metadata": {},
   "outputs": [
    {
     "data": {
      "image/png": "[encoded data removed]",
      "text/plain": [
       "<Figure size 1080x216 with 2 Axes>"
      ]
     },
     "metadata": {},
     "output_type": "display_data"
    }
   ],
   "source": [
    "plt.subplot(1,2,1)\n",
    "plt.scatter(data['year'], data['price'])\n",
    "plt.title(\"PRICE AND YEAR\")\n",
    "\n",
    "plt.subplot(1,2,2)\n",
    "plt.rcParams[\"figure.figsize\"] = (15,3)\n",
    "plt.scatter(data['size'], data['price'])\n",
    "plt.title(\"PRICE AND SIZE\")\n",
    "plt.show()"
   ]
  },
  {
   "cell_type": "markdown",
   "id": "556c201b",
   "metadata": {},
   "source": [
    "### (2) No Endogeneity"
   ]
  },
  {
   "cell_type": "markdown",
   "id": "2d666c56",
   "metadata": {},
   "source": [
    "States that error and Price should NOT be co-related. In this case they are not, so this assumption is True"
   ]
  },
  {
   "cell_type": "markdown",
   "id": "c73943b3",
   "metadata": {},
   "source": [
    "### (3) Normaility & Homoscedasticity"
   ]
  },
  {
   "cell_type": "markdown",
   "id": "d9edeb7b",
   "metadata": {},
   "source": [
    "Errors should be Nomral, with 0 mean. For Homoscedasticity, we can see that there is not as the graphs are generally linearly distributed. Take Price and Year for example.\n"
   ]
  },
  {
   "cell_type": "markdown",
   "id": "5bdc60e4",
   "metadata": {},
   "source": [
    "### (4) No AutoCorrelation"
   ]
  },
  {
   "cell_type": "markdown",
   "id": "4056ac8f",
   "metadata": {},
   "source": [
    "This assumption is true as the data we are dealing with is not time series or panel data. Thus no serial correlation exists"
   ]
  },
  {
   "cell_type": "markdown",
   "id": "6a89dcd3",
   "metadata": {},
   "source": [
    "### (5) Multicollinearity"
   ]
  },
  {
   "cell_type": "code",
   "execution_count": 92,
   "id": "52583214",
   "metadata": {},
   "outputs": [],
   "source": [
    "columntocheck = data[['size', 'year']]\n",
    "newdf = pd.DataFrame()\n",
    "\n",
    "newdf[\"VIF\"] = [variance_inflation_factor(columntocheck.values, x) for x in range(columntocheck.shape[1])]\n",
    "newdf.rename(index={0:'size', 1:'year'}, inplace=True)"
   ]
  },
  {
   "cell_type": "code",
   "execution_count": 93,
   "id": "83d01e21",
   "metadata": {},
   "outputs": [
    {
     "data": {
      "text/html": [
       "<div>\n",
       "<style scoped>\n",
       "    .dataframe tbody tr th:only-of-type {\n",
       "        vertical-align: middle;\n",
       "    }\n",
       "\n",
       "    .dataframe tbody tr th {\n",
       "        vertical-align: top;\n",
       "    }\n",
       "\n",
       "    .dataframe thead th {\n",
       "        text-align: right;\n",
       "    }\n",
       "</style>\n",
       "<table border=\"1\" class=\"dataframe\">\n",
       "  <thead>\n",
       "    <tr style=\"text-align: right;\">\n",
       "      <th></th>\n",
       "      <th>VIF</th>\n",
       "    </tr>\n",
       "  </thead>\n",
       "  <tbody>\n",
       "    <tr>\n",
       "      <th>size</th>\n",
       "      <td>9.267285</td>\n",
       "    </tr>\n",
       "    <tr>\n",
       "      <th>year</th>\n",
       "      <td>9.267285</td>\n",
       "    </tr>\n",
       "  </tbody>\n",
       "</table>\n",
       "</div>"
      ],
      "text/plain": [
       "           VIF\n",
       "size  9.267285\n",
       "year  9.267285"
      ]
     },
     "execution_count": 93,
     "metadata": {},
     "output_type": "execute_result"
    }
   ],
   "source": [
    "newdf"
   ]
  },
  {
   "cell_type": "markdown",
   "id": "7dd5afd8",
   "metadata": {},
   "source": [
    "Since the VIF values are <10, although still very hight, we can apply the regression easily"
   ]
  },
  {
   "cell_type": "markdown",
   "id": "8274478f",
   "metadata": {},
   "source": [
    "## Scaling Data"
   ]
  },
  {
   "cell_type": "code",
   "execution_count": 94,
   "id": "500b8bb7",
   "metadata": {},
   "outputs": [],
   "source": [
    "Scaler = StandardScaler()\n",
    "Scaler.fit(indep)\n",
    "indep_scaled = Scaler.transform(indep)"
   ]
  },
  {
   "cell_type": "code",
   "execution_count": 95,
   "id": "0ce1446a",
   "metadata": {},
   "outputs": [
    {
     "data": {
      "text/plain": [
       "array([[-0.70816415,  0.51006137],\n",
       "       [-0.66387316, -0.76509206],\n",
       "       [-1.23371919,  1.14763808],\n",
       "       [ 2.19844528,  0.51006137],\n",
       "       [ 1.42498884, -0.76509206],\n",
       "       [-0.937209  , -1.40266877],\n",
       "       [-0.95171405,  0.51006137],\n",
       "       [-0.78328682, -1.40266877],\n",
       "       [-0.57603328,  1.14763808],\n",
       "       [-0.53467702, -0.76509206],\n",
       "       [ 0.69939906, -0.76509206],\n",
       "       [ 3.33780001, -0.76509206],\n",
       "       [-0.53467702,  0.51006137],\n",
       "       [ 0.52699137,  1.14763808],\n",
       "       [ 1.51100715, -1.40266877],\n",
       "       [ 1.77668568, -1.40266877],\n",
       "       [-0.54810263,  1.14763808],\n",
       "       [-0.77276222, -1.40266877],\n",
       "       [-0.58004747, -1.40266877],\n",
       "       [ 0.58943055,  1.14763808],\n",
       "       [-0.78365788,  0.51006137],\n",
       "       [-1.02322731,  0.51006137],\n",
       "       [ 1.19557293,  0.51006137],\n",
       "       [-1.12884431,  0.51006137],\n",
       "       [-1.10378093, -0.76509206],\n",
       "       [ 0.84424715,  1.14763808],\n",
       "       [-0.95171405,  1.14763808],\n",
       "       [ 1.62279723,  0.51006137],\n",
       "       [-0.58004747,  0.51006137],\n",
       "       [ 2.17014356,  0.51006137],\n",
       "       [ 0.5306345 , -1.40266877],\n",
       "       [-0.58004747, -1.40266877],\n",
       "       [-0.8606021 , -0.76509206],\n",
       "       [-1.10378093,  0.51006137],\n",
       "       [ 0.015233  ,  1.14763808],\n",
       "       [-0.77603429,  1.14763808],\n",
       "       [-0.10057126, -1.40266877],\n",
       "       [-0.95387294, -1.40266877],\n",
       "       [-0.56517136,  1.14763808],\n",
       "       [-0.5219598 ,  0.51006137],\n",
       "       [ 0.56983186,  0.51006137],\n",
       "       [-0.57603328,  1.14763808],\n",
       "       [-0.10057126, -0.76509206],\n",
       "       [ 1.62279723, -0.76509206],\n",
       "       [ 0.69939906,  1.14763808],\n",
       "       [-0.5219598 ,  0.51006137],\n",
       "       [-0.7415595 , -0.76509206],\n",
       "       [-0.5219598 , -1.40266877],\n",
       "       [-0.7415595 ,  0.51006137],\n",
       "       [-0.79600403,  0.51006137],\n",
       "       [-0.69328805,  0.51006137],\n",
       "       [ 0.56983186,  0.51006137],\n",
       "       [ 0.56983186, -0.76509206],\n",
       "       [-0.42214483, -1.40266877],\n",
       "       [-0.69328805,  0.51006137],\n",
       "       [ 2.21224194,  1.14763808],\n",
       "       [ 0.6039356 ,  1.14763808],\n",
       "       [ 1.45329055,  0.51006137],\n",
       "       [-0.08495304, -1.40266877],\n",
       "       [-0.95751607,  0.51006137],\n",
       "       [-0.08387359,  1.14763808],\n",
       "       [-0.52125142,  0.51006137],\n",
       "       [ 1.18939985,  0.51006137],\n",
       "       [ 0.56983186, -0.76509206],\n",
       "       [-0.56517136,  0.51006137],\n",
       "       [-0.08748299,  0.51006137],\n",
       "       [ 0.52699137, -1.40266877],\n",
       "       [-1.02285625,  0.51006137],\n",
       "       [-0.56517136,  1.14763808],\n",
       "       [ 2.17014356, -1.40266877],\n",
       "       [ 0.56983186, -0.76509206],\n",
       "       [-0.70708471, -1.40266877],\n",
       "       [-0.66387316,  0.51006137],\n",
       "       [-1.02285625,  0.51006137],\n",
       "       [-0.56517136,  1.14763808],\n",
       "       [-0.56517136,  1.14763808],\n",
       "       [ 1.11464825,  1.14763808],\n",
       "       [ 1.62279723, -1.40266877],\n",
       "       [-0.57603328, -0.76509206],\n",
       "       [ 1.13205431, -1.40266877],\n",
       "       [-0.58004747, -1.40266877],\n",
       "       [ 0.90847416,  0.51006137],\n",
       "       [-0.58004747, -1.40266877],\n",
       "       [-0.70816415,  1.14763808],\n",
       "       [-0.56517136,  1.14763808],\n",
       "       [ 0.52699137,  1.14763808],\n",
       "       [-1.25915362, -1.40266877],\n",
       "       [ 0.59162317, -0.76509206],\n",
       "       [-0.84791862,  1.14763808],\n",
       "       [ 1.29501685,  1.14763808],\n",
       "       [-0.53467702,  1.14763808],\n",
       "       [ 0.73714592,  0.51006137],\n",
       "       [-0.53467702,  0.51006137],\n",
       "       [-0.5219598 ,  1.14763808],\n",
       "       [-0.5219598 , -1.40266877],\n",
       "       [-1.02285625, -0.76509206],\n",
       "       [ 0.62208377, -0.76509206],\n",
       "       [ 2.19844528, -1.40266877],\n",
       "       [-0.69062317,  0.51006137],\n",
       "       [-0.49834693, -1.40266877]])"
      ]
     },
     "execution_count": 95,
     "metadata": {},
     "output_type": "execute_result"
    }
   ],
   "source": [
    "indep_scaled"
   ]
  },
  {
   "cell_type": "markdown",
   "id": "d02c8798",
   "metadata": {},
   "source": [
    "## Test/ Train Split"
   ]
  },
  {
   "cell_type": "markdown",
   "id": "08a118a2",
   "metadata": {},
   "source": [
    "Applying 80% train and 20% test strategy"
   ]
  },
  {
   "cell_type": "code",
   "execution_count": 96,
   "id": "e682313e",
   "metadata": {},
   "outputs": [],
   "source": [
    "xtrain, xtest, ytrain, ytest = train_test_split(indep_scaled, dep, test_size = 0.2, random_state = 365)"
   ]
  },
  {
   "cell_type": "markdown",
   "id": "fff7b5f6",
   "metadata": {},
   "source": [
    "## Regression"
   ]
  },
  {
   "cell_type": "code",
   "execution_count": 97,
   "id": "cb47e43e",
   "metadata": {},
   "outputs": [
    {
     "data": {
      "text/plain": [
       "LinearRegression()"
      ]
     },
     "execution_count": 97,
     "metadata": {},
     "output_type": "execute_result"
    }
   ],
   "source": [
    "reg = LinearRegression()\n",
    "reg.fit(xtrain, ytrain)"
   ]
  },
  {
   "cell_type": "code",
   "execution_count": 98,
   "id": "6298e7ff",
   "metadata": {},
   "outputs": [
    {
     "data": {
      "text/plain": [
       "286746.4202333694"
      ]
     },
     "execution_count": 98,
     "metadata": {},
     "output_type": "execute_result"
    }
   ],
   "source": [
    "reg.intercept_"
   ]
  },
  {
   "cell_type": "code",
   "execution_count": 99,
   "id": "742b58e0",
   "metadata": {},
   "outputs": [
    {
     "data": {
      "text/plain": [
       "array([64957.72126766, 10094.52651227])"
      ]
     },
     "execution_count": 99,
     "metadata": {},
     "output_type": "execute_result"
    }
   ],
   "source": [
    "reg.coef_"
   ]
  },
  {
   "cell_type": "code",
   "execution_count": 100,
   "id": "51b9e9c3",
   "metadata": {},
   "outputs": [
    {
     "data": {
      "image/png": "[encoded data removed]",
      "text/plain": [
       "<Figure size 1080x216 with 1 Axes>"
      ]
     },
     "metadata": {},
     "output_type": "display_data"
    }
   ],
   "source": [
    "yhat = reg.predict(xtrain)\n",
    "plt.scatter(yhat, ytrain)\n",
    "plt.xlabel(\"Yhat - Predictions\")\n",
    "plt.ylabel(\"Ytrain - Target\")\n",
    "plt.plot(yhat, yhat, color = 'red', linewidth = 2.5)\n",
    "plt.show()"
   ]
  },
  {
   "cell_type": "code",
   "execution_count": 101,
   "id": "fa56ac7f",
   "metadata": {},
   "outputs": [
    {
     "data": {
      "text/plain": [
       "<seaborn.axisgrid.FacetGrid at 0x1c89a4f9640>"
      ]
     },
     "execution_count": 101,
     "metadata": {},
     "output_type": "execute_result"
    },
    {
     "data": {
      "image/png": "[encoded data removed]",
      "text/plain": [
       "<Figure size 360x360 with 1 Axes>"
      ]
     },
     "metadata": {},
     "output_type": "display_data"
    }
   ],
   "source": [
    "sns.displot(ytrain-yhat)"
   ]
  },
  {
   "cell_type": "code",
   "execution_count": 102,
   "id": "2b537833",
   "metadata": {},
   "outputs": [
    {
     "data": {
      "text/plain": [
       "0.7928858684153612"
      ]
     },
     "execution_count": 102,
     "metadata": {},
     "output_type": "execute_result"
    }
   ],
   "source": [
    "reg.score(xtrain,ytrain)"
   ]
  },
  {
   "cell_type": "code",
   "execution_count": 103,
   "id": "a11e84b6",
   "metadata": {},
   "outputs": [],
   "source": [
    "def adj_r2(x,y):\n",
    "    r2 = reg.score(x,y)\n",
    "    n = x.shape[0]\n",
    "    p = x.shape[1]\n",
    "    adjusted_r2 = 1-(1-r2)*(n-1)/(n-p-1)\n",
    "    return adjusted_r2"
   ]
  },
  {
   "cell_type": "code",
   "execution_count": 104,
   "id": "a570af77",
   "metadata": {},
   "outputs": [],
   "source": [
    "adjusr2 = adj_r2(xtrain,ytrain)"
   ]
  },
  {
   "cell_type": "code",
   "execution_count": 105,
   "id": "66759338",
   "metadata": {},
   "outputs": [
    {
     "data": {
      "text/plain": [
       "0.787506280581994"
      ]
     },
     "execution_count": 105,
     "metadata": {},
     "output_type": "execute_result"
    }
   ],
   "source": [
    "adjusr2"
   ]
  },
  {
   "cell_type": "code",
   "execution_count": 106,
   "id": "b5430e08",
   "metadata": {},
   "outputs": [],
   "source": [
    "table = pd.DataFrame()\n",
    "table['Weights'] = reg.coef_\n",
    "table['Intercept'] = reg.intercept_\n",
    "table['R2'] = reg.score(xtrain, ytrain)\n",
    "table['Adjusted R2'] = adjusr2\n",
    "table.rename(index = {0:'size', 1: 'year'}, inplace = True)"
   ]
  },
  {
   "cell_type": "code",
   "execution_count": 107,
   "id": "9b9620dd",
   "metadata": {},
   "outputs": [
    {
     "data": {
      "text/html": [
       "<div>\n",
       "<style scoped>\n",
       "    .dataframe tbody tr th:only-of-type {\n",
       "        vertical-align: middle;\n",
       "    }\n",
       "\n",
       "    .dataframe tbody tr th {\n",
       "        vertical-align: top;\n",
       "    }\n",
       "\n",
       "    .dataframe thead th {\n",
       "        text-align: right;\n",
       "    }\n",
       "</style>\n",
       "<table border=\"1\" class=\"dataframe\">\n",
       "  <thead>\n",
       "    <tr style=\"text-align: right;\">\n",
       "      <th></th>\n",
       "      <th>Weights</th>\n",
       "      <th>Intercept</th>\n",
       "      <th>R2</th>\n",
       "      <th>Adjusted R2</th>\n",
       "    </tr>\n",
       "  </thead>\n",
       "  <tbody>\n",
       "    <tr>\n",
       "      <th>size</th>\n",
       "      <td>64957.721268</td>\n",
       "      <td>286746.420233</td>\n",
       "      <td>0.792886</td>\n",
       "      <td>0.787506</td>\n",
       "    </tr>\n",
       "    <tr>\n",
       "      <th>year</th>\n",
       "      <td>10094.526512</td>\n",
       "      <td>286746.420233</td>\n",
       "      <td>0.792886</td>\n",
       "      <td>0.787506</td>\n",
       "    </tr>\n",
       "  </tbody>\n",
       "</table>\n",
       "</div>"
      ],
      "text/plain": [
       "           Weights      Intercept        R2  Adjusted R2\n",
       "size  64957.721268  286746.420233  0.792886     0.787506\n",
       "year  10094.526512  286746.420233  0.792886     0.787506"
      ]
     },
     "execution_count": 107,
     "metadata": {},
     "output_type": "execute_result"
    }
   ],
   "source": [
    "table"
   ]
  },
  {
   "cell_type": "markdown",
   "id": "f057e593",
   "metadata": {},
   "source": [
    "Adjusted R2 and R2 values are in range so regression is valid"
   ]
  },
  {
   "cell_type": "markdown",
   "id": "1d9fe068",
   "metadata": {},
   "source": [
    "## P- Value Calculation"
   ]
  },
  {
   "cell_type": "code",
   "execution_count": 108,
   "id": "535b4099",
   "metadata": {},
   "outputs": [
    {
     "data": {
      "text/plain": [
       "(array([267.10712875,   1.06730077]), array([6.60769229e-27, 3.04748539e-01]))"
      ]
     },
     "execution_count": 108,
     "metadata": {},
     "output_type": "execute_result"
    }
   ],
   "source": [
    "f_regression(xtrain, ytrain)"
   ]
  },
  {
   "cell_type": "code",
   "execution_count": 109,
   "id": "b52c6e7b",
   "metadata": {},
   "outputs": [],
   "source": [
    "pvals = f_regression(xtrain, ytrain)[1].round(4)"
   ]
  },
  {
   "cell_type": "code",
   "execution_count": 110,
   "id": "d585a937",
   "metadata": {},
   "outputs": [
    {
     "data": {
      "text/plain": [
       "array([0.    , 0.3047])"
      ]
     },
     "execution_count": 110,
     "metadata": {},
     "output_type": "execute_result"
    }
   ],
   "source": [
    "pvals"
   ]
  },
  {
   "cell_type": "code",
   "execution_count": 111,
   "id": "b297f091",
   "metadata": {},
   "outputs": [],
   "source": [
    "table['P values'] = pvals"
   ]
  },
  {
   "cell_type": "code",
   "execution_count": 112,
   "id": "d8bcb1f8",
   "metadata": {},
   "outputs": [
    {
     "data": {
      "text/html": [
       "<div>\n",
       "<style scoped>\n",
       "    .dataframe tbody tr th:only-of-type {\n",
       "        vertical-align: middle;\n",
       "    }\n",
       "\n",
       "    .dataframe tbody tr th {\n",
       "        vertical-align: top;\n",
       "    }\n",
       "\n",
       "    .dataframe thead th {\n",
       "        text-align: right;\n",
       "    }\n",
       "</style>\n",
       "<table border=\"1\" class=\"dataframe\">\n",
       "  <thead>\n",
       "    <tr style=\"text-align: right;\">\n",
       "      <th></th>\n",
       "      <th>Weights</th>\n",
       "      <th>Intercept</th>\n",
       "      <th>R2</th>\n",
       "      <th>Adjusted R2</th>\n",
       "      <th>P values</th>\n",
       "    </tr>\n",
       "  </thead>\n",
       "  <tbody>\n",
       "    <tr>\n",
       "      <th>size</th>\n",
       "      <td>64957.721268</td>\n",
       "      <td>286746.420233</td>\n",
       "      <td>0.792886</td>\n",
       "      <td>0.787506</td>\n",
       "      <td>0.0000</td>\n",
       "    </tr>\n",
       "    <tr>\n",
       "      <th>year</th>\n",
       "      <td>10094.526512</td>\n",
       "      <td>286746.420233</td>\n",
       "      <td>0.792886</td>\n",
       "      <td>0.787506</td>\n",
       "      <td>0.3047</td>\n",
       "    </tr>\n",
       "  </tbody>\n",
       "</table>\n",
       "</div>"
      ],
      "text/plain": [
       "           Weights      Intercept        R2  Adjusted R2  P values\n",
       "size  64957.721268  286746.420233  0.792886     0.787506    0.0000\n",
       "year  10094.526512  286746.420233  0.792886     0.787506    0.3047"
      ]
     },
     "execution_count": 112,
     "metadata": {},
     "output_type": "execute_result"
    }
   ],
   "source": [
    "table"
   ]
  },
  {
   "cell_type": "markdown",
   "id": "2b25d3c1",
   "metadata": {},
   "source": [
    "Since the p value of year >> 0.05 thus year is not a good variable to estimate the price of real estate, thus it should be dropped but for this example, I am testing to see the results if I don't do that. I will include another example with Year dropped as well."
   ]
  },
  {
   "cell_type": "markdown",
   "id": "bc58b87f",
   "metadata": {},
   "source": [
    "## Testing the model"
   ]
  },
  {
   "cell_type": "code",
   "execution_count": 113,
   "id": "1374f6f4",
   "metadata": {},
   "outputs": [
    {
     "data": {
      "image/png": "[encoded data removed]",
      "text/plain": [
       "<Figure size 432x216 with 1 Axes>"
      ]
     },
     "metadata": {},
     "output_type": "display_data"
    }
   ],
   "source": [
    "yhattest = reg.predict(xtest)\n",
    "plt.rcParams[\"figure.figsize\"] = (6,3)\n",
    "plt.scatter(yhattest, ytest)\n",
    "plt.xlabel(\"Yhattest - Predictions\")\n",
    "plt.ylabel(\"ytest - Expected values\")\n",
    "plt.plot(yhattest, yhattest, color = 'red', linewidth = 2.5)\n",
    "plt.show()"
   ]
  },
  {
   "cell_type": "code",
   "execution_count": 114,
   "id": "a9e92c60",
   "metadata": {},
   "outputs": [
    {
     "data": {
      "text/html": [
       "<div>\n",
       "<style scoped>\n",
       "    .dataframe tbody tr th:only-of-type {\n",
       "        vertical-align: middle;\n",
       "    }\n",
       "\n",
       "    .dataframe tbody tr th {\n",
       "        vertical-align: top;\n",
       "    }\n",
       "\n",
       "    .dataframe thead th {\n",
       "        text-align: right;\n",
       "    }\n",
       "</style>\n",
       "<table border=\"1\" class=\"dataframe\">\n",
       "  <thead>\n",
       "    <tr style=\"text-align: right;\">\n",
       "      <th></th>\n",
       "      <th>Prediction</th>\n",
       "    </tr>\n",
       "  </thead>\n",
       "  <tbody>\n",
       "    <tr>\n",
       "      <th>0</th>\n",
       "      <td>260913.474182</td>\n",
       "    </tr>\n",
       "    <tr>\n",
       "      <th>1</th>\n",
       "      <td>261619.039782</td>\n",
       "    </tr>\n",
       "    <tr>\n",
       "      <th>2</th>\n",
       "      <td>234908.581543</td>\n",
       "    </tr>\n",
       "    <tr>\n",
       "      <th>3</th>\n",
       "      <td>442033.478585</td>\n",
       "    </tr>\n",
       "    <tr>\n",
       "      <th>4</th>\n",
       "      <td>223120.426823</td>\n",
       "    </tr>\n",
       "  </tbody>\n",
       "</table>\n",
       "</div>"
      ],
      "text/plain": [
       "      Prediction\n",
       "0  260913.474182\n",
       "1  261619.039782\n",
       "2  234908.581543\n",
       "3  442033.478585\n",
       "4  223120.426823"
      ]
     },
     "execution_count": 114,
     "metadata": {},
     "output_type": "execute_result"
    }
   ],
   "source": [
    "testdf = pd.DataFrame(yhattest, columns = ['Prediction'])\n",
    "testdf.head()"
   ]
  },
  {
   "cell_type": "code",
   "execution_count": 115,
   "id": "ff0ea598",
   "metadata": {},
   "outputs": [
    {
     "data": {
      "text/plain": [
       "8     331101.344\n",
       "68    294582.944\n",
       "80    180307.216\n",
       "55    500681.128\n",
       "32    207742.248\n",
       "92    298170.880\n",
       "83    282683.544\n",
       "60    251188.824\n",
       "45    300061.480\n",
       "88    211904.536\n",
       "84    303597.216\n",
       "66    355251.200\n",
       "96    310522.592\n",
       "4     458674.256\n",
       "69    454512.760\n",
       "35    302000.920\n",
       "97    383635.568\n",
       "95    252460.400\n",
       "13    418753.008\n",
       "51    393069.760\n",
       "Name: price, dtype: float64"
      ]
     },
     "execution_count": 115,
     "metadata": {},
     "output_type": "execute_result"
    }
   ],
   "source": [
    "ytest"
   ]
  },
  {
   "cell_type": "code",
   "execution_count": 116,
   "id": "0d2ce3ba",
   "metadata": {},
   "outputs": [],
   "source": [
    "ytest.reset_index(drop = True, inplace = True)"
   ]
  },
  {
   "cell_type": "code",
   "execution_count": 117,
   "id": "b1691d7f",
   "metadata": {},
   "outputs": [
    {
     "data": {
      "text/plain": [
       "0     331101.344\n",
       "1     294582.944\n",
       "2     180307.216\n",
       "3     500681.128\n",
       "4     207742.248\n",
       "5     298170.880\n",
       "6     282683.544\n",
       "7     251188.824\n",
       "8     300061.480\n",
       "9     211904.536\n",
       "10    303597.216\n",
       "11    355251.200\n",
       "12    310522.592\n",
       "13    458674.256\n",
       "14    454512.760\n",
       "15    302000.920\n",
       "16    383635.568\n",
       "17    252460.400\n",
       "18    418753.008\n",
       "19    393069.760\n",
       "Name: price, dtype: float64"
      ]
     },
     "execution_count": 117,
     "metadata": {},
     "output_type": "execute_result"
    }
   ],
   "source": [
    "ytest"
   ]
  },
  {
   "cell_type": "code",
   "execution_count": 118,
   "id": "b908d3e9",
   "metadata": {},
   "outputs": [
    {
     "data": {
      "text/html": [
       "<div>\n",
       "<style scoped>\n",
       "    .dataframe tbody tr th:only-of-type {\n",
       "        vertical-align: middle;\n",
       "    }\n",
       "\n",
       "    .dataframe tbody tr th {\n",
       "        vertical-align: top;\n",
       "    }\n",
       "\n",
       "    .dataframe thead th {\n",
       "        text-align: right;\n",
       "    }\n",
       "</style>\n",
       "<table border=\"1\" class=\"dataframe\">\n",
       "  <thead>\n",
       "    <tr style=\"text-align: right;\">\n",
       "      <th></th>\n",
       "      <th>Prediction</th>\n",
       "      <th>Expected- Target</th>\n",
       "    </tr>\n",
       "  </thead>\n",
       "  <tbody>\n",
       "    <tr>\n",
       "      <th>0</th>\n",
       "      <td>260913.474182</td>\n",
       "      <td>331101.344</td>\n",
       "    </tr>\n",
       "    <tr>\n",
       "      <th>1</th>\n",
       "      <td>261619.039782</td>\n",
       "      <td>294582.944</td>\n",
       "    </tr>\n",
       "    <tr>\n",
       "      <th>2</th>\n",
       "      <td>234908.581543</td>\n",
       "      <td>180307.216</td>\n",
       "    </tr>\n",
       "    <tr>\n",
       "      <th>3</th>\n",
       "      <td>442033.478585</td>\n",
       "      <td>500681.128</td>\n",
       "    </tr>\n",
       "    <tr>\n",
       "      <th>4</th>\n",
       "      <td>223120.426823</td>\n",
       "      <td>207742.248</td>\n",
       "    </tr>\n",
       "    <tr>\n",
       "      <th>5</th>\n",
       "      <td>257163.847305</td>\n",
       "      <td>298170.880</td>\n",
       "    </tr>\n",
       "    <tr>\n",
       "      <th>6</th>\n",
       "      <td>252330.553506</td>\n",
       "      <td>282683.544</td>\n",
       "    </tr>\n",
       "    <tr>\n",
       "      <th>7</th>\n",
       "      <td>292883.045962</td>\n",
       "      <td>251188.824</td>\n",
       "    </tr>\n",
       "    <tr>\n",
       "      <th>8</th>\n",
       "      <td>257989.928769</td>\n",
       "      <td>300061.480</td>\n",
       "    </tr>\n",
       "    <tr>\n",
       "      <th>9</th>\n",
       "      <td>243252.422190</td>\n",
       "      <td>211904.536</td>\n",
       "    </tr>\n",
       "  </tbody>\n",
       "</table>\n",
       "</div>"
      ],
      "text/plain": [
       "      Prediction  Expected- Target\n",
       "0  260913.474182        331101.344\n",
       "1  261619.039782        294582.944\n",
       "2  234908.581543        180307.216\n",
       "3  442033.478585        500681.128\n",
       "4  223120.426823        207742.248\n",
       "5  257163.847305        298170.880\n",
       "6  252330.553506        282683.544\n",
       "7  292883.045962        251188.824\n",
       "8  257989.928769        300061.480\n",
       "9  243252.422190        211904.536"
      ]
     },
     "execution_count": 118,
     "metadata": {},
     "output_type": "execute_result"
    }
   ],
   "source": [
    "testdf['Expected- Target'] = ytest\n",
    "testdf.head(10)"
   ]
  },
  {
   "cell_type": "code",
   "execution_count": 119,
   "id": "da03464a",
   "metadata": {},
   "outputs": [],
   "source": [
    "testdf['Difference'] = testdf['Expected- Target'] - testdf['Prediction']"
   ]
  },
  {
   "cell_type": "code",
   "execution_count": 120,
   "id": "b3a2220e",
   "metadata": {},
   "outputs": [
    {
     "data": {
      "text/html": [
       "<div>\n",
       "<style scoped>\n",
       "    .dataframe tbody tr th:only-of-type {\n",
       "        vertical-align: middle;\n",
       "    }\n",
       "\n",
       "    .dataframe tbody tr th {\n",
       "        vertical-align: top;\n",
       "    }\n",
       "\n",
       "    .dataframe thead th {\n",
       "        text-align: right;\n",
       "    }\n",
       "</style>\n",
       "<table border=\"1\" class=\"dataframe\">\n",
       "  <thead>\n",
       "    <tr style=\"text-align: right;\">\n",
       "      <th></th>\n",
       "      <th>Prediction</th>\n",
       "      <th>Expected- Target</th>\n",
       "      <th>Difference</th>\n",
       "    </tr>\n",
       "  </thead>\n",
       "  <tbody>\n",
       "    <tr>\n",
       "      <th>0</th>\n",
       "      <td>260913.474182</td>\n",
       "      <td>331101.344</td>\n",
       "      <td>70187.869818</td>\n",
       "    </tr>\n",
       "    <tr>\n",
       "      <th>1</th>\n",
       "      <td>261619.039782</td>\n",
       "      <td>294582.944</td>\n",
       "      <td>32963.904218</td>\n",
       "    </tr>\n",
       "    <tr>\n",
       "      <th>2</th>\n",
       "      <td>234908.581543</td>\n",
       "      <td>180307.216</td>\n",
       "      <td>-54601.365543</td>\n",
       "    </tr>\n",
       "    <tr>\n",
       "      <th>3</th>\n",
       "      <td>442033.478585</td>\n",
       "      <td>500681.128</td>\n",
       "      <td>58647.649415</td>\n",
       "    </tr>\n",
       "    <tr>\n",
       "      <th>4</th>\n",
       "      <td>223120.426823</td>\n",
       "      <td>207742.248</td>\n",
       "      <td>-15378.178823</td>\n",
       "    </tr>\n",
       "    <tr>\n",
       "      <th>5</th>\n",
       "      <td>257163.847305</td>\n",
       "      <td>298170.880</td>\n",
       "      <td>41007.032695</td>\n",
       "    </tr>\n",
       "    <tr>\n",
       "      <th>6</th>\n",
       "      <td>252330.553506</td>\n",
       "      <td>282683.544</td>\n",
       "      <td>30352.990494</td>\n",
       "    </tr>\n",
       "    <tr>\n",
       "      <th>7</th>\n",
       "      <td>292883.045962</td>\n",
       "      <td>251188.824</td>\n",
       "      <td>-41694.221962</td>\n",
       "    </tr>\n",
       "    <tr>\n",
       "      <th>8</th>\n",
       "      <td>257989.928769</td>\n",
       "      <td>300061.480</td>\n",
       "      <td>42071.551231</td>\n",
       "    </tr>\n",
       "    <tr>\n",
       "      <th>9</th>\n",
       "      <td>243252.422190</td>\n",
       "      <td>211904.536</td>\n",
       "      <td>-31347.886190</td>\n",
       "    </tr>\n",
       "    <tr>\n",
       "      <th>10</th>\n",
       "      <td>261619.039782</td>\n",
       "      <td>303597.216</td>\n",
       "      <td>41978.176218</td>\n",
       "    </tr>\n",
       "    <tr>\n",
       "      <th>11</th>\n",
       "      <td>306819.301673</td>\n",
       "      <td>355251.200</td>\n",
       "      <td>48431.898327</td>\n",
       "    </tr>\n",
       "    <tr>\n",
       "      <th>12</th>\n",
       "      <td>319432.322508</td>\n",
       "      <td>310522.592</td>\n",
       "      <td>-8909.730508</td>\n",
       "    </tr>\n",
       "    <tr>\n",
       "      <th>13</th>\n",
       "      <td>371587.205820</td>\n",
       "      <td>458674.256</td>\n",
       "      <td>87087.050180</td>\n",
       "    </tr>\n",
       "    <tr>\n",
       "      <th>14</th>\n",
       "      <td>413554.723949</td>\n",
       "      <td>454512.760</td>\n",
       "      <td>40958.036051</td>\n",
       "    </tr>\n",
       "    <tr>\n",
       "      <th>15</th>\n",
       "      <td>247921.864100</td>\n",
       "      <td>302000.920</td>\n",
       "      <td>54079.055900</td>\n",
       "    </tr>\n",
       "    <tr>\n",
       "      <th>16</th>\n",
       "      <td>415393.138666</td>\n",
       "      <td>383635.568</td>\n",
       "      <td>-31757.570666</td>\n",
       "    </tr>\n",
       "    <tr>\n",
       "      <th>17</th>\n",
       "      <td>212580.766764</td>\n",
       "      <td>252460.400</td>\n",
       "      <td>39879.633236</td>\n",
       "    </tr>\n",
       "    <tr>\n",
       "      <th>18</th>\n",
       "      <td>332563.441807</td>\n",
       "      <td>418753.008</td>\n",
       "      <td>86189.566193</td>\n",
       "    </tr>\n",
       "    <tr>\n",
       "      <th>19</th>\n",
       "      <td>328910.227621</td>\n",
       "      <td>393069.760</td>\n",
       "      <td>64159.532379</td>\n",
       "    </tr>\n",
       "  </tbody>\n",
       "</table>\n",
       "</div>"
      ],
      "text/plain": [
       "       Prediction  Expected- Target    Difference\n",
       "0   260913.474182        331101.344  70187.869818\n",
       "1   261619.039782        294582.944  32963.904218\n",
       "2   234908.581543        180307.216 -54601.365543\n",
       "3   442033.478585        500681.128  58647.649415\n",
       "4   223120.426823        207742.248 -15378.178823\n",
       "5   257163.847305        298170.880  41007.032695\n",
       "6   252330.553506        282683.544  30352.990494\n",
       "7   292883.045962        251188.824 -41694.221962\n",
       "8   257989.928769        300061.480  42071.551231\n",
       "9   243252.422190        211904.536 -31347.886190\n",
       "10  261619.039782        303597.216  41978.176218\n",
       "11  306819.301673        355251.200  48431.898327\n",
       "12  319432.322508        310522.592  -8909.730508\n",
       "13  371587.205820        458674.256  87087.050180\n",
       "14  413554.723949        454512.760  40958.036051\n",
       "15  247921.864100        302000.920  54079.055900\n",
       "16  415393.138666        383635.568 -31757.570666\n",
       "17  212580.766764        252460.400  39879.633236\n",
       "18  332563.441807        418753.008  86189.566193\n",
       "19  328910.227621        393069.760  64159.532379"
      ]
     },
     "execution_count": 120,
     "metadata": {},
     "output_type": "execute_result"
    }
   ],
   "source": [
    "testdf"
   ]
  },
  {
   "cell_type": "code",
   "execution_count": 121,
   "id": "33bf088e",
   "metadata": {},
   "outputs": [],
   "source": [
    "testdf['% Difference'] = np.absolute((testdf['Expected- Target'] - testdf['Prediction'])*100/(testdf['Expected- Target']))"
   ]
  },
  {
   "cell_type": "code",
   "execution_count": 122,
   "id": "18f66211",
   "metadata": {},
   "outputs": [
    {
     "data": {
      "text/html": [
       "<div>\n",
       "<style scoped>\n",
       "    .dataframe tbody tr th:only-of-type {\n",
       "        vertical-align: middle;\n",
       "    }\n",
       "\n",
       "    .dataframe tbody tr th {\n",
       "        vertical-align: top;\n",
       "    }\n",
       "\n",
       "    .dataframe thead th {\n",
       "        text-align: right;\n",
       "    }\n",
       "</style>\n",
       "<table border=\"1\" class=\"dataframe\">\n",
       "  <thead>\n",
       "    <tr style=\"text-align: right;\">\n",
       "      <th></th>\n",
       "      <th>Prediction</th>\n",
       "      <th>Expected- Target</th>\n",
       "      <th>Difference</th>\n",
       "      <th>% Difference</th>\n",
       "    </tr>\n",
       "  </thead>\n",
       "  <tbody>\n",
       "    <tr>\n",
       "      <th>0</th>\n",
       "      <td>260913.474182</td>\n",
       "      <td>331101.344</td>\n",
       "      <td>70187.869818</td>\n",
       "      <td>21.198304</td>\n",
       "    </tr>\n",
       "    <tr>\n",
       "      <th>1</th>\n",
       "      <td>261619.039782</td>\n",
       "      <td>294582.944</td>\n",
       "      <td>32963.904218</td>\n",
       "      <td>11.190025</td>\n",
       "    </tr>\n",
       "    <tr>\n",
       "      <th>2</th>\n",
       "      <td>234908.581543</td>\n",
       "      <td>180307.216</td>\n",
       "      <td>-54601.365543</td>\n",
       "      <td>30.282407</td>\n",
       "    </tr>\n",
       "    <tr>\n",
       "      <th>3</th>\n",
       "      <td>442033.478585</td>\n",
       "      <td>500681.128</td>\n",
       "      <td>58647.649415</td>\n",
       "      <td>11.713573</td>\n",
       "    </tr>\n",
       "    <tr>\n",
       "      <th>4</th>\n",
       "      <td>223120.426823</td>\n",
       "      <td>207742.248</td>\n",
       "      <td>-15378.178823</td>\n",
       "      <td>7.402528</td>\n",
       "    </tr>\n",
       "    <tr>\n",
       "      <th>5</th>\n",
       "      <td>257163.847305</td>\n",
       "      <td>298170.880</td>\n",
       "      <td>41007.032695</td>\n",
       "      <td>13.752863</td>\n",
       "    </tr>\n",
       "    <tr>\n",
       "      <th>6</th>\n",
       "      <td>252330.553506</td>\n",
       "      <td>282683.544</td>\n",
       "      <td>30352.990494</td>\n",
       "      <td>10.737445</td>\n",
       "    </tr>\n",
       "    <tr>\n",
       "      <th>7</th>\n",
       "      <td>292883.045962</td>\n",
       "      <td>251188.824</td>\n",
       "      <td>-41694.221962</td>\n",
       "      <td>16.598757</td>\n",
       "    </tr>\n",
       "    <tr>\n",
       "      <th>8</th>\n",
       "      <td>257989.928769</td>\n",
       "      <td>300061.480</td>\n",
       "      <td>42071.551231</td>\n",
       "      <td>14.020977</td>\n",
       "    </tr>\n",
       "    <tr>\n",
       "      <th>9</th>\n",
       "      <td>243252.422190</td>\n",
       "      <td>211904.536</td>\n",
       "      <td>-31347.886190</td>\n",
       "      <td>14.793400</td>\n",
       "    </tr>\n",
       "    <tr>\n",
       "      <th>10</th>\n",
       "      <td>261619.039782</td>\n",
       "      <td>303597.216</td>\n",
       "      <td>41978.176218</td>\n",
       "      <td>13.826931</td>\n",
       "    </tr>\n",
       "    <tr>\n",
       "      <th>11</th>\n",
       "      <td>306819.301673</td>\n",
       "      <td>355251.200</td>\n",
       "      <td>48431.898327</td>\n",
       "      <td>13.633141</td>\n",
       "    </tr>\n",
       "    <tr>\n",
       "      <th>12</th>\n",
       "      <td>319432.322508</td>\n",
       "      <td>310522.592</td>\n",
       "      <td>-8909.730508</td>\n",
       "      <td>2.869270</td>\n",
       "    </tr>\n",
       "    <tr>\n",
       "      <th>13</th>\n",
       "      <td>371587.205820</td>\n",
       "      <td>458674.256</td>\n",
       "      <td>87087.050180</td>\n",
       "      <td>18.986688</td>\n",
       "    </tr>\n",
       "    <tr>\n",
       "      <th>14</th>\n",
       "      <td>413554.723949</td>\n",
       "      <td>454512.760</td>\n",
       "      <td>40958.036051</td>\n",
       "      <td>9.011416</td>\n",
       "    </tr>\n",
       "    <tr>\n",
       "      <th>15</th>\n",
       "      <td>247921.864100</td>\n",
       "      <td>302000.920</td>\n",
       "      <td>54079.055900</td>\n",
       "      <td>17.906918</td>\n",
       "    </tr>\n",
       "    <tr>\n",
       "      <th>16</th>\n",
       "      <td>415393.138666</td>\n",
       "      <td>383635.568</td>\n",
       "      <td>-31757.570666</td>\n",
       "      <td>8.278057</td>\n",
       "    </tr>\n",
       "    <tr>\n",
       "      <th>17</th>\n",
       "      <td>212580.766764</td>\n",
       "      <td>252460.400</td>\n",
       "      <td>39879.633236</td>\n",
       "      <td>15.796392</td>\n",
       "    </tr>\n",
       "    <tr>\n",
       "      <th>18</th>\n",
       "      <td>332563.441807</td>\n",
       "      <td>418753.008</td>\n",
       "      <td>86189.566193</td>\n",
       "      <td>20.582435</td>\n",
       "    </tr>\n",
       "    <tr>\n",
       "      <th>19</th>\n",
       "      <td>328910.227621</td>\n",
       "      <td>393069.760</td>\n",
       "      <td>64159.532379</td>\n",
       "      <td>16.322683</td>\n",
       "    </tr>\n",
       "  </tbody>\n",
       "</table>\n",
       "</div>"
      ],
      "text/plain": [
       "       Prediction  Expected- Target    Difference  % Difference\n",
       "0   260913.474182        331101.344  70187.869818     21.198304\n",
       "1   261619.039782        294582.944  32963.904218     11.190025\n",
       "2   234908.581543        180307.216 -54601.365543     30.282407\n",
       "3   442033.478585        500681.128  58647.649415     11.713573\n",
       "4   223120.426823        207742.248 -15378.178823      7.402528\n",
       "5   257163.847305        298170.880  41007.032695     13.752863\n",
       "6   252330.553506        282683.544  30352.990494     10.737445\n",
       "7   292883.045962        251188.824 -41694.221962     16.598757\n",
       "8   257989.928769        300061.480  42071.551231     14.020977\n",
       "9   243252.422190        211904.536 -31347.886190     14.793400\n",
       "10  261619.039782        303597.216  41978.176218     13.826931\n",
       "11  306819.301673        355251.200  48431.898327     13.633141\n",
       "12  319432.322508        310522.592  -8909.730508      2.869270\n",
       "13  371587.205820        458674.256  87087.050180     18.986688\n",
       "14  413554.723949        454512.760  40958.036051      9.011416\n",
       "15  247921.864100        302000.920  54079.055900     17.906918\n",
       "16  415393.138666        383635.568 -31757.570666      8.278057\n",
       "17  212580.766764        252460.400  39879.633236     15.796392\n",
       "18  332563.441807        418753.008  86189.566193     20.582435\n",
       "19  328910.227621        393069.760  64159.532379     16.322683"
      ]
     },
     "execution_count": 122,
     "metadata": {},
     "output_type": "execute_result"
    }
   ],
   "source": [
    "testdf"
   ]
  },
  {
   "cell_type": "code",
   "execution_count": 123,
   "id": "b647d6f9",
   "metadata": {},
   "outputs": [
    {
     "data": {
      "text/html": [
       "<div>\n",
       "<style scoped>\n",
       "    .dataframe tbody tr th:only-of-type {\n",
       "        vertical-align: middle;\n",
       "    }\n",
       "\n",
       "    .dataframe tbody tr th {\n",
       "        vertical-align: top;\n",
       "    }\n",
       "\n",
       "    .dataframe thead th {\n",
       "        text-align: right;\n",
       "    }\n",
       "</style>\n",
       "<table border=\"1\" class=\"dataframe\">\n",
       "  <thead>\n",
       "    <tr style=\"text-align: right;\">\n",
       "      <th></th>\n",
       "      <th>Prediction</th>\n",
       "      <th>Expected- Target</th>\n",
       "      <th>Difference</th>\n",
       "      <th>% Difference</th>\n",
       "    </tr>\n",
       "  </thead>\n",
       "  <tbody>\n",
       "    <tr>\n",
       "      <th>count</th>\n",
       "      <td>20.000000</td>\n",
       "      <td>20.00000</td>\n",
       "      <td>20.000000</td>\n",
       "      <td>20.000000</td>\n",
       "    </tr>\n",
       "    <tr>\n",
       "      <th>mean</th>\n",
       "      <td>296829.841567</td>\n",
       "      <td>324545.09120</td>\n",
       "      <td>27715.249633</td>\n",
       "      <td>14.445211</td>\n",
       "    </tr>\n",
       "    <tr>\n",
       "      <th>std</th>\n",
       "      <td>67957.592597</td>\n",
       "      <td>87886.28552</td>\n",
       "      <td>42870.102091</td>\n",
       "      <td>5.900370</td>\n",
       "    </tr>\n",
       "    <tr>\n",
       "      <th>min</th>\n",
       "      <td>212580.766764</td>\n",
       "      <td>180307.21600</td>\n",
       "      <td>-54601.365543</td>\n",
       "      <td>2.869270</td>\n",
       "    </tr>\n",
       "    <tr>\n",
       "      <th>25%</th>\n",
       "      <td>251228.381154</td>\n",
       "      <td>275127.75800</td>\n",
       "      <td>-10526.842587</td>\n",
       "      <td>11.076880</td>\n",
       "    </tr>\n",
       "    <tr>\n",
       "      <th>50%</th>\n",
       "      <td>261619.039782</td>\n",
       "      <td>302799.06800</td>\n",
       "      <td>40982.534373</td>\n",
       "      <td>13.923954</td>\n",
       "    </tr>\n",
       "    <tr>\n",
       "      <th>75%</th>\n",
       "      <td>329823.531167</td>\n",
       "      <td>385994.11600</td>\n",
       "      <td>55221.204278</td>\n",
       "      <td>16.925797</td>\n",
       "    </tr>\n",
       "    <tr>\n",
       "      <th>max</th>\n",
       "      <td>442033.478585</td>\n",
       "      <td>500681.12800</td>\n",
       "      <td>87087.050180</td>\n",
       "      <td>30.282407</td>\n",
       "    </tr>\n",
       "  </tbody>\n",
       "</table>\n",
       "</div>"
      ],
      "text/plain": [
       "          Prediction  Expected- Target    Difference  % Difference\n",
       "count      20.000000          20.00000     20.000000     20.000000\n",
       "mean   296829.841567      324545.09120  27715.249633     14.445211\n",
       "std     67957.592597       87886.28552  42870.102091      5.900370\n",
       "min    212580.766764      180307.21600 -54601.365543      2.869270\n",
       "25%    251228.381154      275127.75800 -10526.842587     11.076880\n",
       "50%    261619.039782      302799.06800  40982.534373     13.923954\n",
       "75%    329823.531167      385994.11600  55221.204278     16.925797\n",
       "max    442033.478585      500681.12800  87087.050180     30.282407"
      ]
     },
     "execution_count": 123,
     "metadata": {},
     "output_type": "execute_result"
    }
   ],
   "source": [
    "testdf.describe()"
   ]
  },
  {
   "cell_type": "markdown",
   "id": "380aca55",
   "metadata": {},
   "source": [
    "## Predicting Values Simulator"
   ]
  },
  {
   "cell_type": "code",
   "execution_count": 124,
   "id": "8fcce21b",
   "metadata": {},
   "outputs": [
    {
     "name": "stdout",
     "output_type": "stream",
     "text": [
      "WELCOME TO OUR ML TRAINED PRICE PREDICTOR\n",
      "Enter size of house in yards: 2000\n",
      "Enter the year the house was made: 2015\n"
     ]
    },
    {
     "name": "stderr",
     "output_type": "stream",
     "text": [
      "D:\\PYTHON\\lib\\site-packages\\sklearn\\base.py:450: UserWarning: X does not have valid feature names, but StandardScaler was fitted with feature names\n",
      "  warnings.warn(\n"
     ]
    },
    {
     "name": "stdout",
     "output_type": "stream",
     "text": [
      "Our Machine Learning model predicted the house to cost 543220.301 pounds\n",
      "Do you want to predict further values? Enter Y/N: Y\n",
      "Enter size of house in yards: 1500\n",
      "Enter the year the house was made: 2015\n"
     ]
    },
    {
     "name": "stderr",
     "output_type": "stream",
     "text": [
      "D:\\PYTHON\\lib\\site-packages\\sklearn\\base.py:450: UserWarning: X does not have valid feature names, but StandardScaler was fitted with feature names\n",
      "  warnings.warn(\n"
     ]
    },
    {
     "name": "stdout",
     "output_type": "stream",
     "text": [
      "Our Machine Learning model predicted the house to cost 433660.425 pounds\n",
      "Do you want to predict further values? Enter Y/N: Y\n",
      "Enter size of house in yards: 1000\n",
      "Enter the year the house was made: 2015\n"
     ]
    },
    {
     "name": "stderr",
     "output_type": "stream",
     "text": [
      "D:\\PYTHON\\lib\\site-packages\\sklearn\\base.py:450: UserWarning: X does not have valid feature names, but StandardScaler was fitted with feature names\n",
      "  warnings.warn(\n"
     ]
    },
    {
     "name": "stdout",
     "output_type": "stream",
     "text": [
      "Our Machine Learning model predicted the house to cost 324100.549 pounds\n",
      "Do you want to predict further values? Enter Y/N: Y\n",
      "Enter size of house in yards: 50000\n",
      "Enter the year the house was made: 2015\n"
     ]
    },
    {
     "name": "stderr",
     "output_type": "stream",
     "text": [
      "D:\\PYTHON\\lib\\site-packages\\sklearn\\base.py:450: UserWarning: X does not have valid feature names, but StandardScaler was fitted with feature names\n",
      "  warnings.warn(\n"
     ]
    },
    {
     "name": "stdout",
     "output_type": "stream",
     "text": [
      "Our Machine Learning model predicted the house to cost 11060968.385 pounds\n",
      "Do you want to predict further values? Enter Y/N: N\n",
      "Thank you for using our simulator! \n"
     ]
    }
   ],
   "source": [
    "print(\"WELCOME TO OUR ML TRAINED PRICE PREDICTOR\")\n",
    "flag = True\n",
    "\n",
    "while flag == True:\n",
    "    size = int(input(\"Enter size of house in yards: \"))\n",
    "    year = int(input(\"Enter the year the house was made: \"))\n",
    "    new_data = [[size, year]]\n",
    "    new_data_scaled = Scaler.transform(new_data)\n",
    "    val = reg.predict(new_data_scaled)\n",
    "    print(\"Our Machine Learning model predicted the house to cost {} pounds\".format(val[0].round(3)))\n",
    "    \n",
    "    choice = input(\"Do you want to predict further values? Enter Y/N: \")\n",
    "    \n",
    "    while choice!= \"Y\" and choice != \"N\":\n",
    "        choice = input(\"Wrong choice. Try again: \")\n",
    "    if choice == 'N':\n",
    "        flag = False\n",
    "        print(\"Thank you for using our simulator! \")"
   ]
  }
 ],
 "metadata": {
  "kernelspec": {
   "display_name": "Python 3 (ipykernel)",
   "language": "python",
   "name": "python3"
  },
  "language_info": {
   "codemirror_mode": {
    "name": "ipython",
    "version": 3
   },
   "file_extension": ".py",
   "mimetype": "text/x-python",
   "name": "python",
   "nbconvert_exporter": "python",
   "pygments_lexer": "ipython3",
   "version": "3.9.12"
  }
 },
 "nbformat": 4,
 "nbformat_minor": 5
}
